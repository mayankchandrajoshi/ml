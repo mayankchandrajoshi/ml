{
 "cells": [
  {
   "attachments": {},
   "cell_type": "markdown",
   "metadata": {},
   "source": [
    "#                                             MagicBricks.csv Question(ii)\n",
    "\n",
    "\n",
    "NAME = Mayank Chandra Joshi\n",
    "\n",
    "Roll No. = CSC/20/31\n",
    "\n",
    "University Roll No.= 20059570023\n"
   ]
  },
  {
   "cell_type": "code",
   "execution_count": 1,
   "metadata": {},
   "outputs": [],
   "source": [
    "import pandas as pd\n",
    "import numpy as np\n",
    "import matplotlib.pyplot as plt\n",
    "from sklearn.linear_model import LinearRegression"
   ]
  },
  {
   "cell_type": "code",
   "execution_count": 2,
   "metadata": {},
   "outputs": [
    {
     "data": {
      "text/html": [
       "<div>\n",
       "<style scoped>\n",
       "    .dataframe tbody tr th:only-of-type {\n",
       "        vertical-align: middle;\n",
       "    }\n",
       "\n",
       "    .dataframe tbody tr th {\n",
       "        vertical-align: top;\n",
       "    }\n",
       "\n",
       "    .dataframe thead th {\n",
       "        text-align: right;\n",
       "    }\n",
       "</style>\n",
       "<table border=\"1\" class=\"dataframe\">\n",
       "  <thead>\n",
       "    <tr style=\"text-align: right;\">\n",
       "      <th></th>\n",
       "      <th>Area</th>\n",
       "      <th>BHK</th>\n",
       "      <th>Bathroom</th>\n",
       "      <th>Furnishing</th>\n",
       "      <th>Locality</th>\n",
       "      <th>Parking</th>\n",
       "      <th>Price</th>\n",
       "      <th>Status</th>\n",
       "      <th>Transaction</th>\n",
       "      <th>Type</th>\n",
       "      <th>Per_Sqft</th>\n",
       "    </tr>\n",
       "  </thead>\n",
       "  <tbody>\n",
       "    <tr>\n",
       "      <th>1</th>\n",
       "      <td>750.0</td>\n",
       "      <td>2</td>\n",
       "      <td>2.0</td>\n",
       "      <td>Semi-Furnished</td>\n",
       "      <td>J R Designers Floors, Rohini Sector 24</td>\n",
       "      <td>1.0</td>\n",
       "      <td>5000000</td>\n",
       "      <td>Ready_to_move</td>\n",
       "      <td>New_Property</td>\n",
       "      <td>Apartment</td>\n",
       "      <td>6667.0</td>\n",
       "    </tr>\n",
       "    <tr>\n",
       "      <th>2</th>\n",
       "      <td>950.0</td>\n",
       "      <td>2</td>\n",
       "      <td>2.0</td>\n",
       "      <td>Furnished</td>\n",
       "      <td>Citizen Apartment, Rohini Sector 13</td>\n",
       "      <td>1.0</td>\n",
       "      <td>15500000</td>\n",
       "      <td>Ready_to_move</td>\n",
       "      <td>Resale</td>\n",
       "      <td>Apartment</td>\n",
       "      <td>6667.0</td>\n",
       "    </tr>\n",
       "    <tr>\n",
       "      <th>3</th>\n",
       "      <td>600.0</td>\n",
       "      <td>2</td>\n",
       "      <td>2.0</td>\n",
       "      <td>Semi-Furnished</td>\n",
       "      <td>Rohini Sector 24</td>\n",
       "      <td>1.0</td>\n",
       "      <td>4200000</td>\n",
       "      <td>Ready_to_move</td>\n",
       "      <td>Resale</td>\n",
       "      <td>Builder_Floor</td>\n",
       "      <td>6667.0</td>\n",
       "    </tr>\n",
       "    <tr>\n",
       "      <th>4</th>\n",
       "      <td>650.0</td>\n",
       "      <td>2</td>\n",
       "      <td>2.0</td>\n",
       "      <td>Semi-Furnished</td>\n",
       "      <td>Rohini Sector 24 carpet area 650 sqft status R...</td>\n",
       "      <td>1.0</td>\n",
       "      <td>6200000</td>\n",
       "      <td>Ready_to_move</td>\n",
       "      <td>New_Property</td>\n",
       "      <td>Builder_Floor</td>\n",
       "      <td>6667.0</td>\n",
       "    </tr>\n",
       "    <tr>\n",
       "      <th>5</th>\n",
       "      <td>1300.0</td>\n",
       "      <td>4</td>\n",
       "      <td>3.0</td>\n",
       "      <td>Semi-Furnished</td>\n",
       "      <td>Rohini Sector 24</td>\n",
       "      <td>1.0</td>\n",
       "      <td>15500000</td>\n",
       "      <td>Ready_to_move</td>\n",
       "      <td>New_Property</td>\n",
       "      <td>Builder_Floor</td>\n",
       "      <td>6667.0</td>\n",
       "    </tr>\n",
       "  </tbody>\n",
       "</table>\n",
       "</div>"
      ],
      "text/plain": [
       "     Area  BHK  Bathroom      Furnishing  \\\n",
       "1   750.0    2       2.0  Semi-Furnished   \n",
       "2   950.0    2       2.0       Furnished   \n",
       "3   600.0    2       2.0  Semi-Furnished   \n",
       "4   650.0    2       2.0  Semi-Furnished   \n",
       "5  1300.0    4       3.0  Semi-Furnished   \n",
       "\n",
       "                                            Locality  Parking     Price  \\\n",
       "1             J R Designers Floors, Rohini Sector 24      1.0   5000000   \n",
       "2                Citizen Apartment, Rohini Sector 13      1.0  15500000   \n",
       "3                                   Rohini Sector 24      1.0   4200000   \n",
       "4  Rohini Sector 24 carpet area 650 sqft status R...      1.0   6200000   \n",
       "5                                   Rohini Sector 24      1.0  15500000   \n",
       "\n",
       "          Status   Transaction           Type  Per_Sqft  \n",
       "1  Ready_to_move  New_Property      Apartment    6667.0  \n",
       "2  Ready_to_move        Resale      Apartment    6667.0  \n",
       "3  Ready_to_move        Resale  Builder_Floor    6667.0  \n",
       "4  Ready_to_move  New_Property  Builder_Floor    6667.0  \n",
       "5  Ready_to_move  New_Property  Builder_Floor    6667.0  "
      ]
     },
     "execution_count": 2,
     "metadata": {},
     "output_type": "execute_result"
    }
   ],
   "source": [
    "df = pd.read_csv('MagicBricks.csv')\n",
    "df = df.dropna()\n",
    "df.head()"
   ]
  },
  {
   "cell_type": "code",
   "execution_count": 3,
   "metadata": {},
   "outputs": [
    {
     "data": {
      "text/html": [
       "<div>\n",
       "<style scoped>\n",
       "    .dataframe tbody tr th:only-of-type {\n",
       "        vertical-align: middle;\n",
       "    }\n",
       "\n",
       "    .dataframe tbody tr th {\n",
       "        vertical-align: top;\n",
       "    }\n",
       "\n",
       "    .dataframe thead th {\n",
       "        text-align: right;\n",
       "    }\n",
       "</style>\n",
       "<table border=\"1\" class=\"dataframe\">\n",
       "  <thead>\n",
       "    <tr style=\"text-align: right;\">\n",
       "      <th></th>\n",
       "      <th>Area</th>\n",
       "      <th>BHK</th>\n",
       "      <th>Bathroom</th>\n",
       "      <th>Parking</th>\n",
       "      <th>Price</th>\n",
       "      <th>Per_Sqft</th>\n",
       "    </tr>\n",
       "  </thead>\n",
       "  <tbody>\n",
       "    <tr>\n",
       "      <th>count</th>\n",
       "      <td>1005.000000</td>\n",
       "      <td>1005.000000</td>\n",
       "      <td>1005.000000</td>\n",
       "      <td>1005.000000</td>\n",
       "      <td>1.005000e+03</td>\n",
       "      <td>1005.000000</td>\n",
       "    </tr>\n",
       "    <tr>\n",
       "      <th>mean</th>\n",
       "      <td>1504.301968</td>\n",
       "      <td>2.791045</td>\n",
       "      <td>2.575124</td>\n",
       "      <td>1.697512</td>\n",
       "      <td>2.224030e+07</td>\n",
       "      <td>15663.630846</td>\n",
       "    </tr>\n",
       "    <tr>\n",
       "      <th>std</th>\n",
       "      <td>1729.104830</td>\n",
       "      <td>0.961469</td>\n",
       "      <td>1.088503</td>\n",
       "      <td>3.223118</td>\n",
       "      <td>2.771744e+07</td>\n",
       "      <td>21170.160448</td>\n",
       "    </tr>\n",
       "    <tr>\n",
       "      <th>min</th>\n",
       "      <td>28.000000</td>\n",
       "      <td>1.000000</td>\n",
       "      <td>1.000000</td>\n",
       "      <td>1.000000</td>\n",
       "      <td>1.000000e+06</td>\n",
       "      <td>1259.000000</td>\n",
       "    </tr>\n",
       "    <tr>\n",
       "      <th>25%</th>\n",
       "      <td>770.000000</td>\n",
       "      <td>2.000000</td>\n",
       "      <td>2.000000</td>\n",
       "      <td>1.000000</td>\n",
       "      <td>5.130000e+06</td>\n",
       "      <td>6364.000000</td>\n",
       "    </tr>\n",
       "    <tr>\n",
       "      <th>50%</th>\n",
       "      <td>1150.000000</td>\n",
       "      <td>3.000000</td>\n",
       "      <td>2.000000</td>\n",
       "      <td>1.000000</td>\n",
       "      <td>1.400000e+07</td>\n",
       "      <td>11363.000000</td>\n",
       "    </tr>\n",
       "    <tr>\n",
       "      <th>75%</th>\n",
       "      <td>1700.000000</td>\n",
       "      <td>3.000000</td>\n",
       "      <td>3.000000</td>\n",
       "      <td>2.000000</td>\n",
       "      <td>2.700000e+07</td>\n",
       "      <td>18000.000000</td>\n",
       "    </tr>\n",
       "    <tr>\n",
       "      <th>max</th>\n",
       "      <td>24300.000000</td>\n",
       "      <td>7.000000</td>\n",
       "      <td>7.000000</td>\n",
       "      <td>39.000000</td>\n",
       "      <td>2.400000e+08</td>\n",
       "      <td>183333.000000</td>\n",
       "    </tr>\n",
       "  </tbody>\n",
       "</table>\n",
       "</div>"
      ],
      "text/plain": [
       "               Area          BHK     Bathroom      Parking         Price  \\\n",
       "count   1005.000000  1005.000000  1005.000000  1005.000000  1.005000e+03   \n",
       "mean    1504.301968     2.791045     2.575124     1.697512  2.224030e+07   \n",
       "std     1729.104830     0.961469     1.088503     3.223118  2.771744e+07   \n",
       "min       28.000000     1.000000     1.000000     1.000000  1.000000e+06   \n",
       "25%      770.000000     2.000000     2.000000     1.000000  5.130000e+06   \n",
       "50%     1150.000000     3.000000     2.000000     1.000000  1.400000e+07   \n",
       "75%     1700.000000     3.000000     3.000000     2.000000  2.700000e+07   \n",
       "max    24300.000000     7.000000     7.000000    39.000000  2.400000e+08   \n",
       "\n",
       "            Per_Sqft  \n",
       "count    1005.000000  \n",
       "mean    15663.630846  \n",
       "std     21170.160448  \n",
       "min      1259.000000  \n",
       "25%      6364.000000  \n",
       "50%     11363.000000  \n",
       "75%     18000.000000  \n",
       "max    183333.000000  "
      ]
     },
     "execution_count": 3,
     "metadata": {},
     "output_type": "execute_result"
    }
   ],
   "source": [
    "df.describe()"
   ]
  },
  {
   "cell_type": "code",
   "execution_count": 4,
   "metadata": {},
   "outputs": [
    {
     "name": "stderr",
     "output_type": "stream",
     "text": [
      "C:\\Users\\mayan\\AppData\\Local\\Temp\\ipykernel_13664\\3193164777.py:6: FutureWarning: Automatic reindexing on DataFrame vs Series comparisons is deprecated and will raise ValueError in a future version. Do `left, right = left.align(right, axis=1, copy=False)` before e.g. `left == right`\n",
      "  outliers = ((df < (Q1 - 1.5 * IQR)) | (df > (Q3 + 1.5 * IQR)))\n"
     ]
    }
   ],
   "source": [
    "Q1 = df.quantile(0.25)\n",
    "Q3 = df.quantile(0.75)\n",
    "IQR = Q3 - Q1\n",
    "\n",
    "# Identify the outliers\n",
    "outliers = ((df < (Q1 - 1.5 * IQR)) | (df > (Q3 + 1.5 * IQR)))\n",
    "\n",
    "# Remove the outliers\n",
    "df = df[~outliers.any(axis=1)]"
   ]
  },
  {
   "cell_type": "code",
   "execution_count": 5,
   "metadata": {},
   "outputs": [],
   "source": [
    "from sklearn.preprocessing import LabelEncoder\n",
    "\n",
    "le = LabelEncoder()\n",
    "df['Type'] = le.fit_transform(df['Type'])\n",
    "df['Furnishing'] = le.fit_transform(df['Furnishing'])\n",
    "df['Transaction'] = le.fit_transform(df['Transaction'])\n",
    "df['Status'] = le.fit_transform(df['Status'])"
   ]
  },
  {
   "cell_type": "code",
   "execution_count": 6,
   "metadata": {},
   "outputs": [
    {
     "data": {
      "text/html": [
       "<div>\n",
       "<style scoped>\n",
       "    .dataframe tbody tr th:only-of-type {\n",
       "        vertical-align: middle;\n",
       "    }\n",
       "\n",
       "    .dataframe tbody tr th {\n",
       "        vertical-align: top;\n",
       "    }\n",
       "\n",
       "    .dataframe thead th {\n",
       "        text-align: right;\n",
       "    }\n",
       "</style>\n",
       "<table border=\"1\" class=\"dataframe\">\n",
       "  <thead>\n",
       "    <tr style=\"text-align: right;\">\n",
       "      <th></th>\n",
       "      <th>Area</th>\n",
       "      <th>BHK</th>\n",
       "      <th>Bathroom</th>\n",
       "      <th>Furnishing</th>\n",
       "      <th>Locality</th>\n",
       "      <th>Parking</th>\n",
       "      <th>Price</th>\n",
       "      <th>Status</th>\n",
       "      <th>Transaction</th>\n",
       "      <th>Type</th>\n",
       "      <th>Per_Sqft</th>\n",
       "    </tr>\n",
       "  </thead>\n",
       "  <tbody>\n",
       "    <tr>\n",
       "      <th>1</th>\n",
       "      <td>750.0</td>\n",
       "      <td>2</td>\n",
       "      <td>2.0</td>\n",
       "      <td>1</td>\n",
       "      <td>J R Designers Floors, Rohini Sector 24</td>\n",
       "      <td>1.0</td>\n",
       "      <td>5000000</td>\n",
       "      <td>1</td>\n",
       "      <td>0</td>\n",
       "      <td>0</td>\n",
       "      <td>6667.0</td>\n",
       "    </tr>\n",
       "    <tr>\n",
       "      <th>2</th>\n",
       "      <td>950.0</td>\n",
       "      <td>2</td>\n",
       "      <td>2.0</td>\n",
       "      <td>0</td>\n",
       "      <td>Citizen Apartment, Rohini Sector 13</td>\n",
       "      <td>1.0</td>\n",
       "      <td>15500000</td>\n",
       "      <td>1</td>\n",
       "      <td>1</td>\n",
       "      <td>0</td>\n",
       "      <td>6667.0</td>\n",
       "    </tr>\n",
       "    <tr>\n",
       "      <th>3</th>\n",
       "      <td>600.0</td>\n",
       "      <td>2</td>\n",
       "      <td>2.0</td>\n",
       "      <td>1</td>\n",
       "      <td>Rohini Sector 24</td>\n",
       "      <td>1.0</td>\n",
       "      <td>4200000</td>\n",
       "      <td>1</td>\n",
       "      <td>1</td>\n",
       "      <td>1</td>\n",
       "      <td>6667.0</td>\n",
       "    </tr>\n",
       "    <tr>\n",
       "      <th>4</th>\n",
       "      <td>650.0</td>\n",
       "      <td>2</td>\n",
       "      <td>2.0</td>\n",
       "      <td>1</td>\n",
       "      <td>Rohini Sector 24 carpet area 650 sqft status R...</td>\n",
       "      <td>1.0</td>\n",
       "      <td>6200000</td>\n",
       "      <td>1</td>\n",
       "      <td>0</td>\n",
       "      <td>1</td>\n",
       "      <td>6667.0</td>\n",
       "    </tr>\n",
       "    <tr>\n",
       "      <th>5</th>\n",
       "      <td>1300.0</td>\n",
       "      <td>4</td>\n",
       "      <td>3.0</td>\n",
       "      <td>1</td>\n",
       "      <td>Rohini Sector 24</td>\n",
       "      <td>1.0</td>\n",
       "      <td>15500000</td>\n",
       "      <td>1</td>\n",
       "      <td>0</td>\n",
       "      <td>1</td>\n",
       "      <td>6667.0</td>\n",
       "    </tr>\n",
       "  </tbody>\n",
       "</table>\n",
       "</div>"
      ],
      "text/plain": [
       "     Area  BHK  Bathroom  Furnishing  \\\n",
       "1   750.0    2       2.0           1   \n",
       "2   950.0    2       2.0           0   \n",
       "3   600.0    2       2.0           1   \n",
       "4   650.0    2       2.0           1   \n",
       "5  1300.0    4       3.0           1   \n",
       "\n",
       "                                            Locality  Parking     Price  \\\n",
       "1             J R Designers Floors, Rohini Sector 24      1.0   5000000   \n",
       "2                Citizen Apartment, Rohini Sector 13      1.0  15500000   \n",
       "3                                   Rohini Sector 24      1.0   4200000   \n",
       "4  Rohini Sector 24 carpet area 650 sqft status R...      1.0   6200000   \n",
       "5                                   Rohini Sector 24      1.0  15500000   \n",
       "\n",
       "   Status  Transaction  Type  Per_Sqft  \n",
       "1       1            0     0    6667.0  \n",
       "2       1            1     0    6667.0  \n",
       "3       1            1     1    6667.0  \n",
       "4       1            0     1    6667.0  \n",
       "5       1            0     1    6667.0  "
      ]
     },
     "execution_count": 6,
     "metadata": {},
     "output_type": "execute_result"
    }
   ],
   "source": [
    "df.head()"
   ]
  },
  {
   "cell_type": "code",
   "execution_count": 7,
   "metadata": {},
   "outputs": [],
   "source": [
    "X = df[['Bathroom','BHK','Type',\"Parking\",\"Furnishing\",\"Area\",'Per_Sqft',\"Transaction\",\"Status\"]]\n",
    "Y = df[\"Price\"]"
   ]
  },
  {
   "cell_type": "code",
   "execution_count": 8,
   "metadata": {},
   "outputs": [],
   "source": [
    "from sklearn.model_selection import train_test_split\n",
    "X_train, X_test, Y_train, Y_test = train_test_split(X, Y, test_size=0.2, random_state=42)"
   ]
  },
  {
   "cell_type": "code",
   "execution_count": 9,
   "metadata": {},
   "outputs": [
    {
     "data": {
      "text/html": [
       "<style>#sk-container-id-1 {color: black;background-color: white;}#sk-container-id-1 pre{padding: 0;}#sk-container-id-1 div.sk-toggleable {background-color: white;}#sk-container-id-1 label.sk-toggleable__label {cursor: pointer;display: block;width: 100%;margin-bottom: 0;padding: 0.3em;box-sizing: border-box;text-align: center;}#sk-container-id-1 label.sk-toggleable__label-arrow:before {content: \"▸\";float: left;margin-right: 0.25em;color: #696969;}#sk-container-id-1 label.sk-toggleable__label-arrow:hover:before {color: black;}#sk-container-id-1 div.sk-estimator:hover label.sk-toggleable__label-arrow:before {color: black;}#sk-container-id-1 div.sk-toggleable__content {max-height: 0;max-width: 0;overflow: hidden;text-align: left;background-color: #f0f8ff;}#sk-container-id-1 div.sk-toggleable__content pre {margin: 0.2em;color: black;border-radius: 0.25em;background-color: #f0f8ff;}#sk-container-id-1 input.sk-toggleable__control:checked~div.sk-toggleable__content {max-height: 200px;max-width: 100%;overflow: auto;}#sk-container-id-1 input.sk-toggleable__control:checked~label.sk-toggleable__label-arrow:before {content: \"▾\";}#sk-container-id-1 div.sk-estimator input.sk-toggleable__control:checked~label.sk-toggleable__label {background-color: #d4ebff;}#sk-container-id-1 div.sk-label input.sk-toggleable__control:checked~label.sk-toggleable__label {background-color: #d4ebff;}#sk-container-id-1 input.sk-hidden--visually {border: 0;clip: rect(1px 1px 1px 1px);clip: rect(1px, 1px, 1px, 1px);height: 1px;margin: -1px;overflow: hidden;padding: 0;position: absolute;width: 1px;}#sk-container-id-1 div.sk-estimator {font-family: monospace;background-color: #f0f8ff;border: 1px dotted black;border-radius: 0.25em;box-sizing: border-box;margin-bottom: 0.5em;}#sk-container-id-1 div.sk-estimator:hover {background-color: #d4ebff;}#sk-container-id-1 div.sk-parallel-item::after {content: \"\";width: 100%;border-bottom: 1px solid gray;flex-grow: 1;}#sk-container-id-1 div.sk-label:hover label.sk-toggleable__label {background-color: #d4ebff;}#sk-container-id-1 div.sk-serial::before {content: \"\";position: absolute;border-left: 1px solid gray;box-sizing: border-box;top: 0;bottom: 0;left: 50%;z-index: 0;}#sk-container-id-1 div.sk-serial {display: flex;flex-direction: column;align-items: center;background-color: white;padding-right: 0.2em;padding-left: 0.2em;position: relative;}#sk-container-id-1 div.sk-item {position: relative;z-index: 1;}#sk-container-id-1 div.sk-parallel {display: flex;align-items: stretch;justify-content: center;background-color: white;position: relative;}#sk-container-id-1 div.sk-item::before, #sk-container-id-1 div.sk-parallel-item::before {content: \"\";position: absolute;border-left: 1px solid gray;box-sizing: border-box;top: 0;bottom: 0;left: 50%;z-index: -1;}#sk-container-id-1 div.sk-parallel-item {display: flex;flex-direction: column;z-index: 1;position: relative;background-color: white;}#sk-container-id-1 div.sk-parallel-item:first-child::after {align-self: flex-end;width: 50%;}#sk-container-id-1 div.sk-parallel-item:last-child::after {align-self: flex-start;width: 50%;}#sk-container-id-1 div.sk-parallel-item:only-child::after {width: 0;}#sk-container-id-1 div.sk-dashed-wrapped {border: 1px dashed gray;margin: 0 0.4em 0.5em 0.4em;box-sizing: border-box;padding-bottom: 0.4em;background-color: white;}#sk-container-id-1 div.sk-label label {font-family: monospace;font-weight: bold;display: inline-block;line-height: 1.2em;}#sk-container-id-1 div.sk-label-container {text-align: center;}#sk-container-id-1 div.sk-container {/* jupyter's `normalize.less` sets `[hidden] { display: none; }` but bootstrap.min.css set `[hidden] { display: none !important; }` so we also need the `!important` here to be able to override the default hidden behavior on the sphinx rendered scikit-learn.org. See: https://github.com/scikit-learn/scikit-learn/issues/21755 */display: inline-block !important;position: relative;}#sk-container-id-1 div.sk-text-repr-fallback {display: none;}</style><div id=\"sk-container-id-1\" class=\"sk-top-container\"><div class=\"sk-text-repr-fallback\"><pre>LinearRegression()</pre><b>In a Jupyter environment, please rerun this cell to show the HTML representation or trust the notebook. <br />On GitHub, the HTML representation is unable to render, please try loading this page with nbviewer.org.</b></div><div class=\"sk-container\" hidden><div class=\"sk-item\"><div class=\"sk-estimator sk-toggleable\"><input class=\"sk-toggleable__control sk-hidden--visually\" id=\"sk-estimator-id-1\" type=\"checkbox\" checked><label for=\"sk-estimator-id-1\" class=\"sk-toggleable__label sk-toggleable__label-arrow\">LinearRegression</label><div class=\"sk-toggleable__content\"><pre>LinearRegression()</pre></div></div></div></div></div>"
      ],
      "text/plain": [
       "LinearRegression()"
      ]
     },
     "execution_count": 9,
     "metadata": {},
     "output_type": "execute_result"
    }
   ],
   "source": [
    "lr = LinearRegression()\n",
    "lr.fit(X_train, Y_train)"
   ]
  },
  {
   "cell_type": "code",
   "execution_count": 10,
   "metadata": {},
   "outputs": [],
   "source": [
    "Y_pred = lr.predict(X_test)"
   ]
  },
  {
   "cell_type": "code",
   "execution_count": 11,
   "metadata": {},
   "outputs": [
    {
     "data": {
      "image/png": "[encoded data removed]",
      "text/plain": [
       "<Figure size 640x480 with 1 Axes>"
      ]
     },
     "metadata": {},
     "output_type": "display_data"
    }
   ],
   "source": [
    "plt.scatter(Y_test, Y_pred)\n",
    "plt.xlabel('Actual Prices')\n",
    "plt.ylabel('Predicted Prices')\n",
    "plt.title('Actual vs Predicted Prices')\n",
    "plt.show()"
   ]
  },
  {
   "cell_type": "code",
   "execution_count": 12,
   "metadata": {},
   "outputs": [
    {
     "name": "stdout",
     "output_type": "stream",
     "text": [
      "Mean Squared Error:  47253913101253.77\n",
      "R-squared Value:  0.7420722061368374\n"
     ]
    }
   ],
   "source": [
    "from sklearn.metrics import mean_squared_error, r2_score\n",
    "print('Mean Squared Error: ', mean_squared_error(Y_test, Y_pred))\n",
    "print('R-squared Value: ', r2_score(Y_test, Y_pred))"
   ]
  },
  {
   "cell_type": "code",
   "execution_count": 13,
   "metadata": {},
   "outputs": [
    {
     "name": "stdout",
     "output_type": "stream",
     "text": [
      "Predicted Price for New House: $ 8233341.129747648\n"
     ]
    },
    {
     "name": "stderr",
     "output_type": "stream",
     "text": [
      "c:\\Users\\mayan\\.conda\\envs\\myenv\\lib\\site-packages\\sklearn\\base.py:450: UserWarning: X does not have valid feature names, but LinearRegression was fitted with feature names\n",
      "  warnings.warn(\n"
     ]
    }
   ],
   "source": [
    "new_house1 = [[2,3,0,1,1,1000,7000,1,1]]\n",
    "print('Predicted Price for New House: $', lr.predict(new_house1)[0])"
   ]
  }
 ],
 "metadata": {
  "kernelspec": {
   "display_name": "myenv",
   "language": "python",
   "name": "python3"
  },
  "language_info": {
   "codemirror_mode": {
    "name": "ipython",
    "version": 3
   },
   "file_extension": ".py",
   "mimetype": "text/x-python",
   "name": "python",
   "nbconvert_exporter": "python",
   "pygments_lexer": "ipython3",
   "version": "3.9.13"
  },
  "orig_nbformat": 4,
  "vscode": {
   "interpreter": {
    "hash": "0bf73c2a0012a15675a90c284755af99b9b94dfb7c5f04c54acd4d8559563f84"
   }
  }
 },
 "nbformat": 4,
 "nbformat_minor": 2
}
