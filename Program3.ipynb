{
 "cells": [
  {
   "attachments": {},
   "cell_type": "markdown",
   "id": "5e186239",
   "metadata": {},
   "source": [
    "#                                                   Matrices\n",
    "\n",
    "\n",
    "NAME = Mayank Chandra Joshi\n",
    "\n",
    "Roll No. = CSC/20/31\n",
    "\n",
    "UNIVERSITY ROLL NO.= 20059570023\n"
   ]
  },
  {
   "cell_type": "code",
   "execution_count": 20,
   "id": "f43928f1",
   "metadata": {},
   "outputs": [],
   "source": [
    "# (a) Perform basic operations on matrices:"
   ]
  },
  {
   "cell_type": "code",
   "execution_count": 21,
   "id": "f920f674",
   "metadata": {},
   "outputs": [
    {
     "name": "stdout",
     "output_type": "stream",
     "text": [
      "Matrix1 = \n",
      " [[28 10 18]\n",
      " [ 6 14  4]\n",
      " [ 8  0  2]]\n",
      "\n",
      "Matrix2 = \n",
      " [[ 6  7 15]\n",
      " [ 8 18 15]\n",
      " [10  7  2]]\n",
      "\n",
      "Addition = \n",
      " [[34 17 33]\n",
      " [14 32 19]\n",
      " [18  7  4]]\n"
     ]
    }
   ],
   "source": [
    "#(i) addition of two matrices\n",
    "\n",
    "import numpy as np  # importing numpy library\n",
    "mat1 = np.random.randint(30, size=(3,3))\n",
    "mat2 = np.random.randint(20, size=(3,3))\n",
    "print(\"Matrix1 = \\n\",mat1)\n",
    "print(\"\\nMatrix2 = \\n\",mat2)\n",
    "print(\"\\nAddition = \\n\",mat1+mat2) #addition"
   ]
  },
  {
   "cell_type": "code",
   "execution_count": 22,
   "id": "f3db446b",
   "metadata": {},
   "outputs": [
    {
     "name": "stdout",
     "output_type": "stream",
     "text": [
      "\n",
      "Subtraction = \n",
      " [[ 22   3   3]\n",
      " [ -2  -4 -11]\n",
      " [ -2  -7   0]]\n"
     ]
    }
   ],
   "source": [
    "#(ii) subtraction of two matrices\n",
    "\n",
    "print(\"\\nSubtraction = \\n\",mat1-mat2) # subtraction"
   ]
  },
  {
   "cell_type": "code",
   "execution_count": 23,
   "id": "87bb3cd6",
   "metadata": {},
   "outputs": [
    {
     "name": "stdout",
     "output_type": "stream",
     "text": [
      "\n",
      "Multiplication = \n",
      " [[428 502 606]\n",
      " [188 322 308]\n",
      " [ 68  70 124]]\n"
     ]
    }
   ],
   "source": [
    "#(iii) multiplication of two matrices\n",
    "\n",
    "print(\"\\nMultiplication = \\n\",np.dot(mat1,mat2))  #multiplication"
   ]
  },
  {
   "cell_type": "code",
   "execution_count": 24,
   "id": "d395db41",
   "metadata": {},
   "outputs": [
    {
     "name": "stdout",
     "output_type": "stream",
     "text": [
      "\n",
      "Transpose = \n",
      " [[28  6  8]\n",
      " [10 14  0]\n",
      " [18  4  2]]\n"
     ]
    }
   ],
   "source": [
    "#(iv) transpose of a matrix\n",
    "\n",
    "print(\"\\nTranspose = \\n\",mat1.transpose())  #transpose"
   ]
  },
  {
   "cell_type": "code",
   "execution_count": 25,
   "id": "40f781bc",
   "metadata": {},
   "outputs": [],
   "source": [
    "# (b) Display specific roes and columns of a matrix:"
   ]
  },
  {
   "cell_type": "code",
   "execution_count": 26,
   "id": "7e1908a3",
   "metadata": {},
   "outputs": [
    {
     "name": "stdout",
     "output_type": "stream",
     "text": [
      "\n",
      "Specific row & column = \n",
      " [[10 18]\n",
      " [14  4]]\n"
     ]
    }
   ],
   "source": [
    "print(\"\\nSpecific row & column = \\n\",mat1[0:2, 1:3]) "
   ]
  }
 ],
 "metadata": {
  "kernelspec": {
   "display_name": "base",
   "language": "python",
   "name": "python3"
  },
  "language_info": {
   "codemirror_mode": {
    "name": "ipython",
    "version": 3
   },
   "file_extension": ".py",
   "mimetype": "text/x-python",
   "name": "python",
   "nbconvert_exporter": "python",
   "pygments_lexer": "ipython3",
   "version": "3.9.13"
  },
  "vscode": {
   "interpreter": {
    "hash": "b3e0e0fc4c3b1807e01c5612f493dc5a14ad9737293e4ea347fe8a9f0c3f8e07"
   }
  }
 },
 "nbformat": 4,
 "nbformat_minor": 5
}
