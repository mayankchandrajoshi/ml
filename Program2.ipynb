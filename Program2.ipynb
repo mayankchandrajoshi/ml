{
 "cells": [
  {
   "attachments": {},
   "cell_type": "markdown",
   "id": "0a7277a8",
   "metadata": {},
   "source": [
    "#                                                FILE HANDLING                                          \n",
    "    \n",
    "\n",
    "NAME = Mayank Chandra Joshi\n",
    "\n",
    "Roll No. = CSC/20/31\n",
    "\n",
    "UNIVERSITY ROLL NO.= 20059570023\n"
   ]
  },
  {
   "cell_type": "code",
   "execution_count": 15,
   "id": "bc1aeb17",
   "metadata": {},
   "outputs": [],
   "source": [
    "# (a) Load data from a text file "
   ]
  },
  {
   "cell_type": "code",
   "execution_count": 16,
   "id": "d3c19b94",
   "metadata": {},
   "outputs": [
    {
     "name": "stdout",
     "output_type": "stream",
     "text": [
      "[[23 12 23]\n",
      " [34 44 83]\n",
      " [45 34 65]]\n"
     ]
    }
   ],
   "source": [
    "#Text file data converted to integer data type\n",
    "\n",
    "import numpy as np\n",
    "import pandas as pd\n",
    "file = np.loadtxt(\"f1.txt\",dtype = int)\n",
    "print(file)"
   ]
  },
  {
   "cell_type": "code",
   "execution_count": 17,
   "id": "ab457698",
   "metadata": {},
   "outputs": [
    {
     "data": {
      "text/plain": [
       "3"
      ]
     },
     "execution_count": 17,
     "metadata": {},
     "output_type": "execute_result"
    }
   ],
   "source": [
    "# (i) size of matrix\n",
    "\n",
    "len(file)"
   ]
  },
  {
   "cell_type": "code",
   "execution_count": 18,
   "id": "5f50243c",
   "metadata": {},
   "outputs": [
    {
     "name": "stdout",
     "output_type": "stream",
     "text": [
      "Size of 2nd column : 3\n",
      "Size of 0th row : 3\n"
     ]
    }
   ],
   "source": [
    "# (ii) size/length of a particular row/column\n",
    "\n",
    "print(\"Size of 2nd column :\",len(file[:,2]))\n",
    "print(\"Size of 0th row :\",len(file[0]))"
   ]
  },
  {
   "cell_type": "code",
   "execution_count": 19,
   "id": "9db57be8",
   "metadata": {},
   "outputs": [],
   "source": [
    "\n",
    "# (c) Store matrix data to a text file"
   ]
  },
  {
   "cell_type": "code",
   "execution_count": 20,
   "id": "71540eb9",
   "metadata": {},
   "outputs": [
    {
     "data": {
      "text/plain": [
       "array([[ 3, 16, 13],\n",
       "       [ 8,  5,  6],\n",
       "       [ 6, 19, 11]])"
      ]
     },
     "execution_count": 20,
     "metadata": {},
     "output_type": "execute_result"
    }
   ],
   "source": [
    "import numpy as np\n",
    "import pandas as pd\n",
    "\n",
    "d1 = np.random.randint(1,20,9).reshape(3,3)\n",
    "d1"
   ]
  },
  {
   "cell_type": "code",
   "execution_count": 21,
   "id": "9ef32fd0",
   "metadata": {},
   "outputs": [
    {
     "name": "stdout",
     "output_type": "stream",
     "text": [
      "\n",
      "Content in file1.txt:\n",
      " [[ 3. 16. 13.]\n",
      " [ 8.  5.  6.]\n",
      " [ 6. 19. 11.]]\n"
     ]
    }
   ],
   "source": [
    "np.savetxt(\"f2c.txt\",d1)\n",
    "content = np.loadtxt(\"f2c.txt\")\n",
    "print(\"\\nContent in file1.txt:\\n\",content)"
   ]
  },
  {
   "cell_type": "code",
   "execution_count": null,
   "id": "8ae8378b",
   "metadata": {},
   "outputs": [],
   "source": []
  }
 ],
 "metadata": {
  "kernelspec": {
   "display_name": "base",
   "language": "python",
   "name": "python3"
  },
  "language_info": {
   "codemirror_mode": {
    "name": "ipython",
    "version": 3
   },
   "file_extension": ".py",
   "mimetype": "text/x-python",
   "name": "python",
   "nbconvert_exporter": "python",
   "pygments_lexer": "ipython3",
   "version": "3.9.13"
  },
  "vscode": {
   "interpreter": {
    "hash": "b3e0e0fc4c3b1807e01c5612f493dc5a14ad9737293e4ea347fe8a9f0c3f8e07"
   }
  }
 },
 "nbformat": 4,
 "nbformat_minor": 5
}
