{
 "cells": [
  {
   "attachments": {},
   "cell_type": "markdown",
   "metadata": {},
   "source": [
    "#                                             Array and Metrices\n",
    "\n",
    "\n",
    "NAME = Mayank Chandra Joshi\n",
    "\n",
    "Roll No. = CSC/20/31\n",
    "\n",
    "University Roll No.= 20059570023\n"
   ]
  },
  {
   "cell_type": "code",
   "execution_count": 20,
   "metadata": {
    "tags": []
   },
   "outputs": [
    {
     "name": "stdout",
     "output_type": "stream",
     "text": [
      "Single dimensional array :\n",
      "[2 3 4 2 3]\n",
      "\n",
      "Multi dimensional array :\n",
      "[[ 2  3  4]\n",
      " [ 2  3 10]]\n",
      "\n",
      "Array of ones :\n",
      "[1 1 1 1 1 1 1 1 1 1]\n",
      "\n",
      "Array of zeroes :\n",
      "[0 0 0 0 0 0 0 0 0 0]\n",
      "\n",
      "Array with random values :\n",
      "[7 4 2 7 6 7 3 2 2 4]\n",
      "\n",
      "Diagonal array :\n",
      "[[4 0 0]\n",
      " [0 5 0]\n",
      " [0 0 3]]\n",
      "\n"
     ]
    }
   ],
   "source": [
    "# (a) Create array\n",
    "\n",
    "# i)   with specific values(single and multidimensional)\n",
    "# ii)  with all ones\n",
    "# iii) with all zeroes\n",
    "# iv)  with random values\n",
    "# v)   with all elements zereos except diagonal(diagonal matrix);  \n",
    "\n",
    "\n",
    "import numpy as np\n",
    "\n",
    "print(\"Single dimensional array :\\n{arr}\\n\".format(arr=np.array([2,3,4,2,3])))\n",
    "print(\"Multi dimensional array :\\n{arr}\\n\".format(arr=np.array([2,3,4,2,3,10]).reshape(2,3)))\n",
    "print(\"Array of ones :\\n{arr}\\n\".format(arr=np.ones(10, dtype=int)))\n",
    "print(\"Array of zeroes :\\n{arr}\\n\".format(arr=np.zeros(10, dtype=int)))\n",
    "print(\"Array with random values :\\n{arr}\\n\".format(arr=np.random.randint(9,size=10)))\n",
    "print(\"Diagonal array :\\n{arr}\\n\".format(arr=np.diag([4,5,3])))"
   ]
  },
  {
   "cell_type": "code",
   "execution_count": 21,
   "metadata": {},
   "outputs": [
    {
     "name": "stdout",
     "output_type": "stream",
     "text": [
      "Matrix = \n",
      " [[7 8 8 3 1 4]\n",
      " [7 3 2 3 0 7]\n",
      " [3 3 4 2 9 2]\n",
      " [5 0 2 9 7 1]]\n",
      "\n",
      " Absolute values = \n",
      " [[7 8 8 3 1 4]\n",
      " [7 3 2 3 0 7]\n",
      " [3 3 4 2 9 2]\n",
      " [5 0 2 9 7 1]]\n",
      "\n",
      " Negative of matrix = \n",
      " [[-7 -8 -8 -3 -1 -4]\n",
      " [-7 -3 -2 -3  0 -7]\n",
      " [-3 -3 -4 -2 -9 -2]\n",
      " [-5  0 -2 -9 -7 -1]]\n"
     ]
    }
   ],
   "source": [
    "# (b) Perform matrix operation \n",
    "\n",
    "import numpy as np  \n",
    "mat = np.random.randint(10, size=(4,6)) \n",
    "print(\"Matrix = \\n\",mat)\n",
    "\n",
    "# i) convert matrix data to absolute value\n",
    "print(\"\\n Absolute values = \\n\",np.absolute(mat))\n",
    "\n",
    "#(ii) negative of a matrix\n",
    "print(\"\\n Negative of matrix = \\n\", mat*-1)\n"
   ]
  },
  {
   "cell_type": "code",
   "execution_count": 22,
   "metadata": {},
   "outputs": [
    {
     "name": "stdout",
     "output_type": "stream",
     "text": [
      "\n",
      " Add a row  = \n",
      " [[7 8 8 3 1 4]\n",
      " [7 3 2 3 0 7]\n",
      " [3 3 4 2 9 2]\n",
      " [5 0 2 9 7 1]\n",
      " [0 0 0 0 0 0]]\n",
      "\n",
      " Add a column =\n",
      "  [[7 8 8 1 3 1 4]\n",
      " [7 3 2 1 3 0 7]\n",
      " [3 3 4 1 2 9 2]\n",
      " [5 0 2 1 9 7 1]]\n"
     ]
    }
   ],
   "source": [
    "#(iii) add rows & columns from a matrix\n",
    "row = [0,0,0,0,0,0]\n",
    "col = [1,1,1,1]\n",
    "print(\"\\n Add a row  = \\n\", np.append(mat, [row], axis=0)) \n",
    "\n",
    "print(\"\\n Add a column =\\n \", np.insert(mat, 3, col, axis=1))"
   ]
  },
  {
   "cell_type": "code",
   "execution_count": 23,
   "metadata": {},
   "outputs": [
    {
     "name": "stdout",
     "output_type": "stream",
     "text": [
      "\n",
      " Matrix after removing row = \n",
      " [[7 8 8 3 1 4]\n",
      " [3 3 4 2 9 2]\n",
      " [5 0 2 9 7 1]]\n",
      "\n",
      " Matrix after removing column = \n",
      " [[7 8 3 1 4]\n",
      " [7 2 3 0 7]\n",
      " [3 4 2 9 2]\n",
      " [5 2 9 7 1]]\n"
     ]
    }
   ],
   "source": [
    "#(iv) remove rows & columns from a matrix\n",
    "\n",
    "print(\"\\n Matrix after removing row = \\n\", np.delete(mat, 1, 0))           # Using delete function\n",
    "print(\"\\n Matrix after removing column = \\n\", np.delete(mat, 1, 1))  "
   ]
  },
  {
   "cell_type": "code",
   "execution_count": 24,
   "metadata": {},
   "outputs": [
    {
     "name": "stdout",
     "output_type": "stream",
     "text": [
      "\n",
      "Maximum value in matrix :- 9\n",
      "Minimum value in matrix : 0\n",
      "\n",
      "Maximum value in columns : [7 8 8 9 9 7]\n",
      "Minimum value in columns : [3 0 2 2 0 1]\n",
      "\n",
      "Maximum value in rows : [8 7 9 9]\n",
      "Minimum value in rows : [1 0 2 0]\n"
     ]
    }
   ],
   "source": [
    "#(v) find maximun & minimum value in matrix or in row in column\n",
    "\n",
    "print(\"\\nMaximum value in matrix :-\",mat.max())    \n",
    "print(\"Minimum value in matrix :\",mat.min())       \n",
    "\n",
    "print(\"\\nMaximum value in columns :\",mat.max(0))  \n",
    "print(\"Minimum value in columns :\",mat.min(0))\n",
    "\n",
    "print(\"\\nMaximum value in rows :\",mat.max(1))\n",
    "print(\"Minimum value in rows :\",mat.min(1))     "
   ]
  },
  {
   "cell_type": "code",
   "execution_count": 25,
   "metadata": {},
   "outputs": [
    {
     "name": "stdout",
     "output_type": "stream",
     "text": [
      "\n",
      "Sum of all elements =  100\n"
     ]
    }
   ],
   "source": [
    "#(v) find sum of all elements in matrix \n",
    "print(\"\\nSum of all elements = \",np.sum(mat)) "
   ]
  }
 ],
 "metadata": {
  "kernelspec": {
   "display_name": "base",
   "language": "python",
   "name": "python3"
  },
  "language_info": {
   "codemirror_mode": {
    "name": "ipython",
    "version": 3
   },
   "file_extension": ".py",
   "mimetype": "text/x-python",
   "name": "python",
   "nbconvert_exporter": "python",
   "pygments_lexer": "ipython3",
   "version": "3.9.13 (main, Aug 25 2022, 23:51:50) [MSC v.1916 64 bit (AMD64)]"
  },
  "orig_nbformat": 4,
  "vscode": {
   "interpreter": {
    "hash": "b3e0e0fc4c3b1807e01c5612f493dc5a14ad9737293e4ea347fe8a9f0c3f8e07"
   }
  }
 },
 "nbformat": 4,
 "nbformat_minor": 2
}
